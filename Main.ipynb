{
  "nbformat": 4,
  "nbformat_minor": 0,
  "metadata": {
    "colab": {
      "name": "Main.ipynb",
      "version": "0.3.2",
      "provenance": []
    },
    "kernelspec": {
      "name": "python2",
      "display_name": "Python 2"
    },
    "accelerator": "GPU"
  },
  "cells": [
    {
      "metadata": {
        "id": "T9ZWUpwpfF_F",
        "colab_type": "code",
        "colab": {}
      },
      "cell_type": "code",
      "source": [
        "import csv\n",
        "import urllib2\n",
        "import numpy as np\n",
        "import matplotlib.pyplot as plt\n",
        "from scipy.spatial.distance import cdist\n",
        "# used for not displaying scientific e notation\n",
        "np.set_printoptions(precision=8,suppress=True,linewidth=150)\n"
      ],
      "execution_count": 0,
      "outputs": []
    },
    {
      "metadata": {
        "id": "hYACgZPVk9KR",
        "colab_type": "code",
        "colab": {}
      },
      "cell_type": "code",
      "source": [
        "def clean_data(data):\n",
        "    data.pop(len(data)-1)  # remove last null item in data\n",
        "    datac = []\n",
        "    for item in data:\n",
        "        del item[4]  # remove the class name\n",
        "        item = np.array(item)\n",
        "        item = item.astype(np.float)\n",
        "        datac.append(item)\n",
        "    return datac\n",
        "\n",
        "\n",
        "def get_data(url):\n",
        "    response = urllib2.urlopen(url)\n",
        "    data_file = csv.reader(response)\n",
        "    # print(type(data_file))\n",
        "    data = []\n",
        "    for row in data_file:\n",
        "        data.append(row)\n",
        "    return data\n",
        "\n",
        "\n",
        "def init_particles(data, clusters, particles):\n",
        "    swarm = []\n",
        "    for i in range(0, particles):\n",
        "        group = []\n",
        "        for j in range(0, clusters):\n",
        "            index = np.random.randint(0, len(data))\n",
        "            centers = data[index]\n",
        "            group.append(centers)\n",
        "        swarm.append(np.array(group))\n",
        "    return np.array(swarm)\n",
        "\n",
        "    \n",
        "  "
      ],
      "execution_count": 0,
      "outputs": []
    },
    {
      "metadata": {
        "id": "SnH1IJHnCEBb",
        "colab_type": "code",
        "colab": {}
      },
      "cell_type": "code",
      "source": [
        "def distance(data, centers, metric='euclidean'):\n",
        "    \"\"\"\n",
        "    Euclidean distance from each point to each cluster center.\n",
        "    Parameters\n",
        "    ----------\n",
        "    data : 2d array (N x Q)\n",
        "        Data to be analyzed. There are N data points.\n",
        "    centers : 2d array (C x Q)\n",
        "        Cluster centers. There are C clusters, with Q features.\n",
        "    metric: string\n",
        "        By default is set to euclidean. Passes any option accepted by\n",
        "        ``scipy.spatial.distance.cdist``.\n",
        "    Returns\n",
        "    -------\n",
        "    dist : 2d array (N x C)\n",
        "        Euclidean distance from each point, to each cluster center.\n",
        "    \"\"\"\n",
        "    return cdist(data, centers, metric=metric)\n",
        "\n",
        "\"\"\"\n",
        "Distance Matrix\n",
        "Output: P x N x C\n",
        "P: Particle count\n",
        "N: no.of Datapoints\n",
        "C: no.of clusters\n",
        "\n",
        "\"\"\"\n",
        "def cal_distance_mat(data,particles):\n",
        "    dist = np.zeros((particles.shape[0], data.shape[0], particles.shape[1]))\n",
        "    for i in range(0, particles.shape[0]):\n",
        "        dist[i] = distance(data, particles[i])\n",
        "        # to avoid dision by zero exception, adding negligible value\n",
        "        dist[i] = dist[i] + .00000001 \n",
        "    return dist\n",
        "        "
      ],
      "execution_count": 0,
      "outputs": []
    },
    {
      "metadata": {
        "id": "9zdxc8xwEItA",
        "colab_type": "code",
        "colab": {}
      },
      "cell_type": "code",
      "source": [
        "\"\"\"\n",
        "Membership Matrix\n",
        "Output: P x N x C\n",
        "P: Particle count\n",
        "N: no.of Datapoints\n",
        "C: no.of clusters\n",
        "\n",
        "\"\"\"\n",
        "def cal_membership_mat(dist, particles, m=2):\n",
        "    mem_mat = np.zeros(dist.shape)\n",
        "    exp = 2/(m-1)\n",
        "    for p in range(0, particles.shape[0]):\n",
        "        for i in range(0, dist.shape[1]):\n",
        "            for j in range(0, dist.shape[2]):\n",
        "                sum = 0.0\n",
        "                for k in range(0, dist.shape[2]):\n",
        "                    div = (dist[p][i][j]/dist[p][i][k])\n",
        "                    sum = sum + pow(div,exp)\n",
        "                ans = 1.0/sum\n",
        "                mem_mat[p][i][j] = ans\n",
        "    return mem_mat"
      ],
      "execution_count": 0,
      "outputs": []
    },
    {
      "metadata": {
        "id": "sAvq8OcJGyDA",
        "colab_type": "code",
        "colab": {}
      },
      "cell_type": "code",
      "source": [
        "\"\"\"\n",
        "Centers Matrix\n",
        "Output: P x C x D\n",
        "P: Particle count\n",
        "C: no.of clusters\n",
        "D: Datapoints second dimension\n",
        "\n",
        "\"\"\"\n",
        "def update_centers(mem_mat,data,m=2):\n",
        "    new_centers = np.zeros((mem_mat.shape[0],mem_mat.shape[2],data.shape[1]))\n",
        "    for i in range(0,mem_mat.shape[0]):\n",
        "        for j in range(0,mem_mat.shape[2]):\n",
        "            num = np.zeros((1,data.shape[1]))\n",
        "            denom = 0.0\n",
        "            for k in range(0,data.shape[0]):\n",
        "                p = pow(mem_mat[i][k][j],m)\n",
        "                denom = denom + p\n",
        "                num = num + p * data[k]\n",
        "            new_centers[i][j] = np.array(num/denom)\n",
        "    return np.array(new_centers)\n",
        "    \n",
        "  "
      ],
      "execution_count": 0,
      "outputs": []
    },
    {
      "metadata": {
        "id": "MTMnhSG12vEj",
        "colab_type": "code",
        "colab": {}
      },
      "cell_type": "code",
      "source": [
        "def jmeasure(dist, mem_mat, m=2):\n",
        "    jm = np.zeros(dist.shape[0])\n",
        "    for p in range(0,dist.shape[0]):\n",
        "        jm[p] = 0.0\n",
        "        for i in range(0, dist.shape[1]):\n",
        "            sum = 0.0\n",
        "            for j in range(0, dist.shape[2]):\n",
        "                sum = sum + (pow(mem_mat[p][i][j], m) * pow(dist[p][i][j], 2))\n",
        "            jm[p] = jm[p] + sum\n",
        "    return jm\n"
      ],
      "execution_count": 0,
      "outputs": []
    },
    {
      "metadata": {
        "id": "gY1_VK58iJV8",
        "colab_type": "code",
        "colab": {}
      },
      "cell_type": "code",
      "source": [
        "def get_labels(cluster_membership):\n",
        "    labels = []\n",
        "    for p in cluster_membership:\n",
        "        labels.append(np.argmax(p))\n",
        "    return labels"
      ],
      "execution_count": 0,
      "outputs": []
    },
    {
      "metadata": {
        "id": "TyLNr1HHa2pN",
        "colab_type": "code",
        "colab": {
          "base_uri": "https://localhost:8080/",
          "height": 88
        },
        "outputId": "29cf1c49-5bdf-4cb2-defc-e9eb5994996a"
      },
      "cell_type": "code",
      "source": [
        "!pip install scikit-fuzzy\n",
        "\n",
        "import skfuzzy as fuzzy\n",
        "\n",
        "def lib_fcm(data,cluster_count,m):\n",
        "    cntr, u, u0, d, jm, p, fpc = fuzzy.cmeans(\n",
        "        data=data.T, c=cluster_count, m=m, error=0.001, maxiter=1000, init=None, seed=None)\n",
        "    return cntr,u.T,jm"
      ],
      "execution_count": 218,
      "outputs": [
        {
          "output_type": "stream",
          "text": [
            "Requirement already satisfied: scikit-fuzzy in /usr/local/lib/python2.7/dist-packages (0.4.0)\n",
            "Requirement already satisfied: networkx>=1.9.0 in /usr/local/lib/python2.7/dist-packages (from scikit-fuzzy) (2.2)\n",
            "Requirement already satisfied: decorator>=4.3.0 in /usr/local/lib/python2.7/dist-packages (from networkx>=1.9.0->scikit-fuzzy) (4.3.0)\n"
          ],
          "name": "stdout"
        }
      ]
    },
    {
      "metadata": {
        "id": "DbfbYNFBgAoL",
        "colab_type": "code",
        "colab": {
          "base_uri": "https://localhost:8080/",
          "height": 54
        },
        "outputId": "33c790b5-eccd-44f8-8ff3-12f70f2f195e"
      },
      "cell_type": "code",
      "source": [
        "url = 'https://archive.ics.uci.edu/ml/machine-learning-databases/iris/iris.data'\n",
        "m = 2\n",
        "cluster_count = 3\n",
        "particle_count = 20\n",
        "\n",
        "data = get_data(url)\n",
        "data = clean_data(data)\n",
        "data = np.array(data)\n",
        "\n",
        "particles = init_particles(data,cluster_count,particle_count)\n",
        "\n",
        "print(particles.tolist())"
      ],
      "execution_count": 212,
      "outputs": [
        {
          "output_type": "stream",
          "text": [
            "[[[5.6, 2.9, 3.6, 1.3], [4.9, 3.1, 1.5, 0.1], [5.8, 2.7, 5.1, 1.9]], [[5.1, 3.4, 1.5, 0.2], [6.4, 3.1, 5.5, 1.8], [6.5, 3.0, 5.8, 2.2]], [[5.1, 3.4, 1.5, 0.2], [5.5, 2.4, 3.7, 1.0], [5.5, 2.6, 4.4, 1.2]], [[4.8, 3.4, 1.9, 0.2], [4.4, 3.2, 1.3, 0.2], [6.5, 3.0, 5.5, 1.8]], [[7.6, 3.0, 6.6, 2.1], [6.1, 3.0, 4.9, 1.8], [5.6, 2.9, 3.6, 1.3]], [[6.0, 3.4, 4.5, 1.6], [5.0, 3.4, 1.6, 0.4], [4.6, 3.2, 1.4, 0.2]], [[5.7, 2.9, 4.2, 1.3], [5.6, 2.9, 3.6, 1.3], [6.0, 2.7, 5.1, 1.6]], [[5.1, 3.5, 1.4, 0.2], [4.6, 3.1, 1.5, 0.2], [5.5, 4.2, 1.4, 0.2]], [[6.4, 3.2, 4.5, 1.5], [5.5, 2.3, 4.0, 1.3], [5.1, 3.5, 1.4, 0.3]], [[4.8, 3.0, 1.4, 0.3], [6.2, 2.8, 4.8, 1.8], [6.7, 3.3, 5.7, 2.5]], [[5.0, 3.6, 1.4, 0.2], [5.0, 3.6, 1.4, 0.2], [5.8, 2.8, 5.1, 2.4]], [[7.6, 3.0, 6.6, 2.1], [6.4, 3.2, 5.3, 2.3], [6.1, 2.8, 4.0, 1.3]], [[6.0, 3.4, 4.5, 1.6], [6.9, 3.1, 4.9, 1.5], [7.2, 3.6, 6.1, 2.5]], [[4.8, 3.4, 1.6, 0.2], [6.3, 2.8, 5.1, 1.5], [4.8, 3.4, 1.9, 0.2]], [[6.3, 2.5, 5.0, 1.9], [4.9, 3.0, 1.4, 0.2], [6.4, 3.2, 4.5, 1.5]], [[5.1, 3.3, 1.7, 0.5], [7.4, 2.8, 6.1, 1.9], [4.4, 2.9, 1.4, 0.2]], [[5.2, 3.5, 1.5, 0.2], [6.5, 3.0, 5.8, 2.2], [4.4, 3.2, 1.3, 0.2]], [[6.1, 2.6, 5.6, 1.4], [4.8, 3.0, 1.4, 0.1], [5.5, 2.5, 4.0, 1.3]], [[6.7, 3.0, 5.0, 1.7], [5.5, 4.2, 1.4, 0.2], [4.9, 3.1, 1.5, 0.1]], [[6.2, 3.4, 5.4, 2.3], [6.1, 2.9, 4.7, 1.4], [6.3, 3.4, 5.6, 2.4]]]\n"
          ],
          "name": "stdout"
        }
      ]
    },
    {
      "metadata": {
        "id": "6q5yGtjwCI99",
        "colab_type": "code",
        "colab": {
          "base_uri": "https://localhost:8080/",
          "height": 105
        },
        "outputId": "ba7eac21-6305-432c-8416-80ccb11820a8"
      },
      "cell_type": "code",
      "source": [
        "dist = cal_distance_mat(data,particles)\n",
        "mem = cal_membership_mat(dist,particles,m)\n",
        "jmo = jmeasure(dist,mem,m)\n",
        "\n",
        "for i in range(0,1000):\n",
        "    dist = cal_distance_mat(data,particles)\n",
        "    mem = cal_membership_mat(dist,particles,m)\n",
        "    jm = jmeasure(dist,mem,m)\n",
        "    particles = update_centers(mem,data,m)\n",
        "    \n",
        "# for i in range(0, len(particles)):\n",
        "#     print(\"Particle \"+str(i+1)+\": \"+ str(particles[i].tolist())+\"\\n\" +\"JMeasure(old) : \"+str(jmo[i])+\"\\n\" +\"JMeasure(new) : \"+str(jm[i])+\"\\n\")\n",
        "\n",
        "min_jm = np.amin(jm)\n",
        "min_jm_id = np.where(jm==min_jm)\n",
        "bp_id = min_jm_id[0][0]\n",
        "\n",
        "print(\"Particle(best) \"+\": \"+ str(particles[bp_id].tolist())+\"\\n\" +\"JMeasure(old) : \"+str(jmo[bp_id])+\"\\n\" +\"JMeasure(new) : \"+str(jm[bp_id])+\"\\n\")\n"
      ],
      "execution_count": 213,
      "outputs": [
        {
          "output_type": "stream",
          "text": [
            "Particle(best) : [[5.889199790337225, 2.7612349508229586, 4.364255127978977, 1.397446546763746], [5.003561368096462, 3.4030356673989006, 1.4850015644189853, 0.25154107484721255], [6.775118989795105, 3.0524309140434496, 5.646914423781907, 2.053608511504043]]\n",
            "JMeasure(old) : 124.36661027966848\n",
            "JMeasure(new) : 60.57595693585616\n",
            "\n"
          ],
          "name": "stdout"
        }
      ]
    },
    {
      "metadata": {
        "id": "lMGNyV_rnyet",
        "colab_type": "code",
        "colab": {
          "base_uri": "https://localhost:8080/",
          "height": 71
        },
        "outputId": "07515313-7416-4b90-9186-49547c3cdeb0"
      },
      "cell_type": "code",
      "source": [
        "bp_mem = mem[bp_id] \n",
        "labels = get_labels(bp_mem)\n",
        "print(labels)\n",
        "\n",
        "cntr,u,j=lib_fcm(data,3,m)\n",
        "print(get_labels(u))"
      ],
      "execution_count": 222,
      "outputs": [
        {
          "output_type": "stream",
          "text": [
            "[1, 1, 1, 1, 1, 1, 1, 1, 1, 1, 1, 1, 1, 1, 1, 1, 1, 1, 1, 1, 1, 1, 1, 1, 1, 1, 1, 1, 1, 1, 1, 1, 1, 1, 1, 1, 1, 1, 1, 1, 1, 1, 1, 1, 1, 1, 1, 1, 1, 1, 2, 0, 2, 0, 0, 0, 0, 0, 0, 0, 0, 0, 0, 0, 0, 0, 0, 0, 0, 0, 0, 0, 0, 0, 0, 0, 0, 2, 0, 0, 0, 0, 0, 0, 0, 0, 0, 0, 0, 0, 0, 0, 0, 0, 0, 0, 0, 0, 0, 0, 2, 0, 2, 2, 2, 2, 0, 2, 2, 2, 2, 2, 2, 0, 2, 2, 2, 2, 2, 0, 2, 0, 2, 0, 2, 2, 0, 0, 2, 2, 2, 2, 2, 0, 2, 2, 2, 2, 0, 2, 2, 2, 0, 2, 2, 2, 0, 2, 2, 0]\n",
            "[1, 1, 1, 1, 1, 1, 1, 1, 1, 1, 1, 1, 1, 1, 1, 1, 1, 1, 1, 1, 1, 1, 1, 1, 1, 1, 1, 1, 1, 1, 1, 1, 1, 1, 1, 1, 1, 1, 1, 1, 1, 1, 1, 1, 1, 1, 1, 1, 1, 1, 2, 0, 2, 0, 0, 0, 0, 0, 0, 0, 0, 0, 0, 0, 0, 0, 0, 0, 0, 0, 0, 0, 0, 0, 0, 0, 0, 2, 0, 0, 0, 0, 0, 0, 0, 0, 0, 0, 0, 0, 0, 0, 0, 0, 0, 0, 0, 0, 0, 0, 2, 0, 2, 2, 2, 2, 0, 2, 2, 2, 2, 2, 2, 0, 2, 2, 2, 2, 2, 0, 2, 0, 2, 0, 2, 2, 0, 0, 2, 2, 2, 2, 2, 0, 2, 2, 2, 2, 0, 2, 2, 2, 0, 2, 2, 2, 0, 2, 2, 0]\n"
          ],
          "name": "stdout"
        }
      ]
    }
  ]
}
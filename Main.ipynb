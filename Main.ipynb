{
  "nbformat": 4,
  "nbformat_minor": 0,
  "metadata": {
    "colab": {
      "name": "Main.ipynb",
      "version": "0.3.2",
      "provenance": []
    },
    "kernelspec": {
      "name": "python2",
      "display_name": "Python 2"
    },
    "accelerator": "GPU"
  },
  "cells": [
    {
      "metadata": {
        "id": "T9ZWUpwpfF_F",
        "colab_type": "code",
        "colab": {}
      },
      "cell_type": "code",
      "source": [
        "import csv\n",
        "import urllib2\n",
        "import numpy as np\n"
      ],
      "execution_count": 0,
      "outputs": []
    },
    {
      "metadata": {
        "id": "hYACgZPVk9KR",
        "colab_type": "code",
        "colab": {}
      },
      "cell_type": "code",
      "source": [
        "def clean_data(data):\n",
        "  data.pop(len(data)-1) # remove last null item in data\n",
        "  datac = []\n",
        "  for item in data:\n",
        "    del item[4] # remove the class name\n",
        "    item = np.array(item)\n",
        "    item = item.astype(np.float)\n",
        "    datac.append(item)\n",
        "  return datac\n",
        "\n",
        "def get_data(url):\n",
        "  response = urllib2.urlopen(url)\n",
        "  data_file = csv.reader(response)\n",
        "  #print(type(data_file))\n",
        "  data = [ ]\n",
        "  for row in data_file:\n",
        "      data.append(row)\n",
        "  return data\n",
        "\n",
        "def init_particles(data,clusters,particles):\n",
        "  swarm = [ ]\n",
        "  for i in range(0,particles):\n",
        "    group = []\n",
        "    for j in range(0,clusters):\n",
        "        index = np.random.randint(0,len(data))\n",
        "        centers = data[index]\n",
        "        group.append(centers)\n",
        "    swarm.append(group)\n",
        "  return swarm\n",
        "    \n",
        "  "
      ],
      "execution_count": 0,
      "outputs": []
    },
    {
      "metadata": {
        "id": "DbfbYNFBgAoL",
        "colab_type": "code",
        "colab": {
          "base_uri": "https://localhost:8080/",
          "height": 54
        },
        "outputId": "e44fe48e-903b-4f7d-806e-598564843b53"
      },
      "cell_type": "code",
      "source": [
        "url = 'https://archive.ics.uci.edu/ml/machine-learning-databases/iris/iris.data'\n",
        "\n",
        "data = get_data(url)\n",
        "data = clean_data(data)\n",
        "\n",
        "cluster_count = 3\n",
        "particle_count = 20\n",
        "particles = init_particles(data,cluster_count,particle_count)\n",
        "\n",
        "print(particles)"
      ],
      "execution_count": 8,
      "outputs": [
        {
          "output_type": "stream",
          "text": [
            "[[array([5. , 3.5, 1.6, 0.6]), array([7.4, 2.8, 6.1, 1.9]), array([6.2, 3.4, 5.4, 2.3])], [array([6.1, 2.8, 4.7, 1.2]), array([4.6, 3.4, 1.4, 0.3]), array([6.3, 2.7, 4.9, 1.8])], [array([6.8, 3.2, 5.9, 2.3]), array([4.8, 3. , 1.4, 0.1]), array([6.3, 2.9, 5.6, 1.8])], [array([6.2, 2.2, 4.5, 1.5]), array([4.8, 3.4, 1.9, 0.2]), array([6.2, 3.4, 5.4, 2.3])], [array([7.6, 3. , 6.6, 2.1]), array([6. , 2.2, 5. , 1.5]), array([5.1, 3.3, 1.7, 0.5])], [array([5.7, 3. , 4.2, 1.2]), array([6. , 2.9, 4.5, 1.5]), array([6.3, 2.8, 5.1, 1.5])], [array([5.6, 3. , 4.1, 1.3]), array([5.5, 2.6, 4.4, 1.2]), array([5.6, 3. , 4.1, 1.3])], [array([5.2, 3.5, 1.5, 0.2]), array([6.2, 2.2, 4.5, 1.5]), array([6.4, 2.8, 5.6, 2.1])], [array([5.5, 2.3, 4. , 1.3]), array([4.4, 2.9, 1.4, 0.2]), array([5.5, 2.4, 3.8, 1.1])], [array([5.1, 3.8, 1.9, 0.4]), array([7.1, 3. , 5.9, 2.1]), array([5.7, 2.8, 4.1, 1.3])], [array([4.9, 2.4, 3.3, 1. ]), array([5.4, 3.4, 1.7, 0.2]), array([6. , 2.2, 5. , 1.5])], [array([6.4, 2.8, 5.6, 2.2]), array([7.7, 2.8, 6.7, 2. ]), array([6.6, 3. , 4.4, 1.4])], [array([5.7, 3. , 4.2, 1.2]), array([6.3, 2.5, 5. , 1.9]), array([4.9, 3.1, 1.5, 0.1])], [array([5.5, 4.2, 1.4, 0.2]), array([6.8, 3. , 5.5, 2.1]), array([5.5, 3.5, 1.3, 0.2])], [array([5.2, 4.1, 1.5, 0.1]), array([5.9, 3.2, 4.8, 1.8]), array([5.2, 4.1, 1.5, 0.1])], [array([6.3, 2.8, 5.1, 1.5]), array([6. , 2.2, 5. , 1.5]), array([5.8, 2.7, 5.1, 1.9])], [array([5.5, 2.4, 3.7, 1. ]), array([5.1, 3.5, 1.4, 0.2]), array([5.1, 2.5, 3. , 1.1])], [array([6.4, 2.9, 4.3, 1.3]), array([6.1, 3. , 4.6, 1.4]), array([6.8, 3.2, 5.9, 2.3])], [array([5.1, 3.3, 1.7, 0.5]), array([6.5, 3. , 5.2, 2. ]), array([6.3, 3.4, 5.6, 2.4])], [array([6.3, 2.7, 4.9, 1.8]), array([6.8, 2.8, 4.8, 1.4]), array([6.7, 3.3, 5.7, 2.5])]]\n"
          ],
          "name": "stdout"
        }
      ]
    }
  ]
}